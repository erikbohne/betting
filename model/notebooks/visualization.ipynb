{
  "cells": [
    {
      "cell_type": "code",
      "execution_count": 1,
      "metadata": {
        "id": "OVH1cys0MV2X"
      },
      "outputs": [
        {
          "ename": "ModuleNotFoundError",
          "evalue": "No module named 'pandas'",
          "output_type": "error",
          "traceback": [
            "\u001b[0;31m---------------------------------------------------------------------------\u001b[0m",
            "\u001b[0;31mModuleNotFoundError\u001b[0m                       Traceback (most recent call last)",
            "Cell \u001b[0;32mIn[1], line 2\u001b[0m\n\u001b[1;32m      1\u001b[0m \u001b[39m# Imports\u001b[39;00m\n\u001b[0;32m----> 2\u001b[0m \u001b[39mimport\u001b[39;00m \u001b[39mpandas\u001b[39;00m \u001b[39mas\u001b[39;00m \u001b[39mpd\u001b[39;00m\n\u001b[1;32m      3\u001b[0m \u001b[39mimport\u001b[39;00m \u001b[39mnumpy\u001b[39;00m \u001b[39mas\u001b[39;00m \u001b[39mnp\u001b[39;00m\n\u001b[1;32m      4\u001b[0m \u001b[39mimport\u001b[39;00m \u001b[39mmatplotlib\u001b[39;00m\u001b[39m.\u001b[39;00m\u001b[39mpyplot\u001b[39;00m \u001b[39mas\u001b[39;00m \u001b[39mplt\u001b[39;00m\n",
            "\u001b[0;31mModuleNotFoundError\u001b[0m: No module named 'pandas'"
          ]
        }
      ],
      "source": [
        "# Imports\n",
        "import pandas as pd\n",
        "import numpy as np\n",
        "import matplotlib.pyplot as plt\n",
        "import seaborn as sns\n",
        "from sqlalchemy import create_engine, text\n",
        "import os\n",
        "import json\n",
        "\n",
        "# !pip install \"cloud-sql-python-connector[pg8000]\"\n",
        "from google.cloud.sql.connector import Connector"
      ]
    },
    {
      "cell_type": "code",
      "execution_count": 12,
      "metadata": {
        "id": "iwrPpLXjOQ4E"
      },
      "outputs": [],
      "source": [
        "def loadJSON(path):\n",
        "    \"\"\"\n",
        "    Returns data from JSON file @ path\n",
        "    \"\"\"\n",
        "    return json.load(open(path))"
      ]
    },
    {
      "cell_type": "code",
      "execution_count": 13,
      "metadata": {
        "id": "2msW7HFiNCk7"
      },
      "outputs": [],
      "source": [
        "# Create engine\n",
        "os.environ['GOOGLE_APPLICATION_CREDENTIALS'] = '/content/googleCloudKey.json'\n",
        "\n",
        "def initPostgreSQL():\n",
        "    \"\"\"\n",
        "    Connects and initializes PostgreSQL\n",
        "    \"\"\"\n",
        "    # Import database creditations\n",
        "    creds = loadJSON(\"/content/postgreSQLKey.json\")\n",
        "\n",
        "    def getConnection():\n",
        "        connector = Connector()\n",
        "        connection = connector.connect(\n",
        "            creds[\"connectionName\"],\n",
        "            \"pg8000\",\n",
        "            user=creds[\"user\"],\n",
        "            password=creds[\"password\"],\n",
        "            db=creds[\"dbname\"]\n",
        "        )\n",
        "        return connection\n",
        "    \n",
        "    try: # Try to connecto to database\n",
        "        engine = create_engine(\n",
        "            \"postgresql+pg8000://\",\n",
        "            creator=getConnection,\n",
        "        )\n",
        "        return engine\n",
        "    except Exception as e: # Connection failed\n",
        "        return None"
      ]
    },
    {
      "cell_type": "code",
      "execution_count": 15,
      "metadata": {
        "id": "UG8WHod9OWRS"
      },
      "outputs": [],
      "source": [
        "# Get engine\n",
        "engine = initPostgreSQL()"
      ]
    },
    {
      "cell_type": "code",
      "execution_count": null,
      "metadata": {
        "id": "xfbVe6jZOwGI"
      },
      "outputs": [],
      "source": [
        "# Load data\n",
        "query = text(\"\"\"\n",
        "SELECT \n",
        "    leagues.name as league_name,\n",
        "    COUNT(matches.id) as total_matches,\n",
        "    SUM(CASE WHEN home_goals > away_goals THEN 1 ELSE 0 END) as home_wins,\n",
        "    SUM(CASE WHEN home_goals = away_goals THEN 1 ELSE 0 END) as draws,\n",
        "    SUM(CASE WHEN home_goals < away_goals THEN 1 ELSE 0 END) as away_wins\n",
        "FROM matches\n",
        "JOIN leagues ON matches.league_id = leagues.id\n",
        "GROUP BY leagues.name;\n",
        "\"\"\")\n",
        "with engine.connect() as connection:\n",
        "  df = pd.read_sql_query(query, connection)\n",
        "\n",
        "print(df.head(5))"
      ]
    },
    {
      "cell_type": "code",
      "execution_count": null,
      "metadata": {
        "id": "ALqZokFwSMoL"
      },
      "outputs": [],
      "source": [
        "# Plot data\n",
        "win_data = pd.read_sql(query, con=engine)\n",
        "\n",
        "win_data['home_win_percentage'] = (win_data['home_wins'] / win_data['total_matches']) * 100\n",
        "win_data['draw_percentage'] = (win_data['draws'] / win_data['total_matches']) * 100\n",
        "win_data['away_win_percentage'] = (win_data['away_wins'] / win_data['total_matches']) * 100\n",
        "\n",
        "n_leagues = len(win_data)\n",
        "index = np.arange(n_leagues)\n",
        "bar_width = 0.3\n",
        "\n",
        "fig, ax = plt.subplots(figsize=(12, 6))\n",
        "\n",
        "rects1 = ax.bar(index, win_data['home_win_percentage'], bar_width, label='Home Win Percentage')\n",
        "rects2 = ax.bar(index + bar_width, win_data['draw_percentage'], bar_width, label='Draw Percentage')\n",
        "rects3 = ax.bar(index + 2 * bar_width, win_data['away_win_percentage'], bar_width, label='Away Win Percentage')\n",
        "\n",
        "ax.set_xlabel('League')\n",
        "ax.set_ylabel('Percentage')\n",
        "ax.set_title('Outcome Percentages by League')\n",
        "ax.set_xticks(index + bar_width)\n",
        "ax.set_xticklabels(win_data['league_name'])\n",
        "ax.legend()\n",
        "\n",
        "fig.tight_layout()\n",
        "plt.show()"
      ]
    }
  ],
  "metadata": {
    "colab": {
      "provenance": []
    },
    "kernelspec": {
      "display_name": "Python 3",
      "name": "python3"
    },
    "language_info": {
      "codemirror_mode": {
        "name": "ipython",
        "version": 3
      },
      "file_extension": ".py",
      "mimetype": "text/x-python",
      "name": "python",
      "nbconvert_exporter": "python",
      "pygments_lexer": "ipython3",
      "version": "3.11.1"
    }
  },
  "nbformat": 4,
  "nbformat_minor": 0
}
